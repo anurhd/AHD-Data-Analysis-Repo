{
 "cells": [
  {
   "cell_type": "markdown",
   "id": "9ea25ba1-27c7-4df0-99d4-2b3d57abd0e0",
   "metadata": {},
   "source": [
    "## <b>Objective - Improve user experience by analysing sales data and Increase revenue</b>"
   ]
  },
  {
   "cell_type": "code",
   "execution_count": 241,
   "id": "558a5db8-c0e9-4494-9828-04f0aada7283",
   "metadata": {},
   "outputs": [],
   "source": [
    "#importing python libraries\n",
    "\n",
    "import numpy as np\n",
    "import pandas as pd\n",
    "import matplotlib.pyplot as plt\n",
    "import seaborn as sbn"
   ]
  },
  {
   "cell_type": "code",
   "execution_count": 242,
   "id": "215fa048-88c2-408b-8045-9506b33c1be6",
   "metadata": {},
   "outputs": [],
   "source": [
    "#importing the dataset\n",
    "\n",
    "dsd = pd.read_csv(r'C:\\Users\\dream\\OneDrive\\Desktop\\NooB 1.0 Bootcamp\\Python\\Python_Class_6_Dataset\\Diwali Sales Data.csv', encoding= 'unicode_escape')"
   ]
  },
  {
   "cell_type": "code",
   "execution_count": 243,
   "id": "e98ad823-9394-4644-bc31-bebf44c83d32",
   "metadata": {},
   "outputs": [
    {
     "data": {
      "text/plain": [
       "(11251, 14)"
      ]
     },
     "execution_count": 243,
     "metadata": {},
     "output_type": "execute_result"
    }
   ],
   "source": [
    "#DATA CLEANING\n",
    "#understanding the data size\n",
    "\n",
    "dsd.shape"
   ]
  },
  {
   "cell_type": "code",
   "execution_count": 244,
   "id": "702e567a-ab3d-433e-925a-45df12089b6c",
   "metadata": {},
   "outputs": [
    {
     "data": {
      "text/html": [
       "<div>\n",
       "<style scoped>\n",
       "    .dataframe tbody tr th:only-of-type {\n",
       "        vertical-align: middle;\n",
       "    }\n",
       "\n",
       "    .dataframe tbody tr th {\n",
       "        vertical-align: top;\n",
       "    }\n",
       "\n",
       "    .dataframe thead th {\n",
       "        text-align: right;\n",
       "    }\n",
       "</style>\n",
       "<table border=\"1\" class=\"dataframe\">\n",
       "  <thead>\n",
       "    <tr style=\"text-align: right;\">\n",
       "      <th></th>\n",
       "      <th>User_ID</th>\n",
       "      <th>Cust_name</th>\n",
       "      <th>Product_ID</th>\n",
       "      <th>Gender</th>\n",
       "      <th>Age</th>\n",
       "      <th>Marital_Status</th>\n",
       "      <th>State</th>\n",
       "      <th>Zone</th>\n",
       "      <th>Occupation</th>\n",
       "      <th>Product_Category</th>\n",
       "      <th>Orders</th>\n",
       "      <th>Amount</th>\n",
       "      <th>Status</th>\n",
       "      <th>Unnamed</th>\n",
       "    </tr>\n",
       "  </thead>\n",
       "  <tbody>\n",
       "    <tr>\n",
       "      <th>0</th>\n",
       "      <td>1002903</td>\n",
       "      <td>Sanskriti</td>\n",
       "      <td>P00125942</td>\n",
       "      <td>F</td>\n",
       "      <td>28</td>\n",
       "      <td>0</td>\n",
       "      <td>Maharashtra</td>\n",
       "      <td>Western</td>\n",
       "      <td>Healthcare</td>\n",
       "      <td>Auto</td>\n",
       "      <td>1</td>\n",
       "      <td>23952.0</td>\n",
       "      <td>NaN</td>\n",
       "      <td>NaN</td>\n",
       "    </tr>\n",
       "    <tr>\n",
       "      <th>1</th>\n",
       "      <td>1000732</td>\n",
       "      <td>Kartik</td>\n",
       "      <td>P00110942</td>\n",
       "      <td>F</td>\n",
       "      <td>35</td>\n",
       "      <td>1</td>\n",
       "      <td>Andhra Pradesh</td>\n",
       "      <td>Southern</td>\n",
       "      <td>Govt</td>\n",
       "      <td>Auto</td>\n",
       "      <td>3</td>\n",
       "      <td>23934.0</td>\n",
       "      <td>NaN</td>\n",
       "      <td>NaN</td>\n",
       "    </tr>\n",
       "    <tr>\n",
       "      <th>2</th>\n",
       "      <td>1001990</td>\n",
       "      <td>Bindu</td>\n",
       "      <td>P00118542</td>\n",
       "      <td>F</td>\n",
       "      <td>35</td>\n",
       "      <td>1</td>\n",
       "      <td>Uttar Pradesh</td>\n",
       "      <td>Central</td>\n",
       "      <td>Automobile</td>\n",
       "      <td>Auto</td>\n",
       "      <td>3</td>\n",
       "      <td>23924.0</td>\n",
       "      <td>NaN</td>\n",
       "      <td>NaN</td>\n",
       "    </tr>\n",
       "    <tr>\n",
       "      <th>3</th>\n",
       "      <td>1001425</td>\n",
       "      <td>Sudevi</td>\n",
       "      <td>P00237842</td>\n",
       "      <td>M</td>\n",
       "      <td>16</td>\n",
       "      <td>0</td>\n",
       "      <td>Karnataka</td>\n",
       "      <td>Southern</td>\n",
       "      <td>Construction</td>\n",
       "      <td>Auto</td>\n",
       "      <td>2</td>\n",
       "      <td>23912.0</td>\n",
       "      <td>NaN</td>\n",
       "      <td>NaN</td>\n",
       "    </tr>\n",
       "    <tr>\n",
       "      <th>4</th>\n",
       "      <td>1000588</td>\n",
       "      <td>Joni</td>\n",
       "      <td>P00057942</td>\n",
       "      <td>M</td>\n",
       "      <td>28</td>\n",
       "      <td>1</td>\n",
       "      <td>Gujarat</td>\n",
       "      <td>Western</td>\n",
       "      <td>Food Processing</td>\n",
       "      <td>Auto</td>\n",
       "      <td>2</td>\n",
       "      <td>23877.0</td>\n",
       "      <td>NaN</td>\n",
       "      <td>NaN</td>\n",
       "    </tr>\n",
       "  </tbody>\n",
       "</table>\n",
       "</div>"
      ],
      "text/plain": [
       "   User_ID  Cust_name Product_ID Gender  Age  Marital_Status           State  \\\n",
       "0  1002903  Sanskriti  P00125942      F   28               0     Maharashtra   \n",
       "1  1000732     Kartik  P00110942      F   35               1  Andhra Pradesh   \n",
       "2  1001990      Bindu  P00118542      F   35               1   Uttar Pradesh   \n",
       "3  1001425     Sudevi  P00237842      M   16               0       Karnataka   \n",
       "4  1000588       Joni  P00057942      M   28               1         Gujarat   \n",
       "\n",
       "       Zone       Occupation Product_Category  Orders   Amount  Status  \\\n",
       "0   Western       Healthcare             Auto       1  23952.0     NaN   \n",
       "1  Southern             Govt             Auto       3  23934.0     NaN   \n",
       "2   Central       Automobile             Auto       3  23924.0     NaN   \n",
       "3  Southern     Construction             Auto       2  23912.0     NaN   \n",
       "4   Western  Food Processing             Auto       2  23877.0     NaN   \n",
       "\n",
       "   Unnamed  \n",
       "0      NaN  \n",
       "1      NaN  \n",
       "2      NaN  \n",
       "3      NaN  \n",
       "4      NaN  "
      ]
     },
     "execution_count": 244,
     "metadata": {},
     "output_type": "execute_result"
    }
   ],
   "source": [
    "#understanding the data\n",
    "\n",
    "dsd.head()"
   ]
  },
  {
   "cell_type": "code",
   "execution_count": 245,
   "id": "35fbe925-93cb-4660-9495-3d5f31ea6625",
   "metadata": {},
   "outputs": [
    {
     "data": {
      "text/plain": [
       "User_ID                 0\n",
       "Cust_name               0\n",
       "Product_ID              0\n",
       "Gender                  0\n",
       "Age                     0\n",
       "Marital_Status          0\n",
       "State                   0\n",
       "Zone                    0\n",
       "Occupation              0\n",
       "Product_Category        0\n",
       "Orders                  0\n",
       "Amount                 12\n",
       "Status              11251\n",
       "Unnamed             11251\n",
       "dtype: int64"
      ]
     },
     "execution_count": 245,
     "metadata": {},
     "output_type": "execute_result"
    }
   ],
   "source": [
    "#checking for null values\n",
    "\n",
    "dsd.isnull().sum()"
   ]
  },
  {
   "cell_type": "code",
   "execution_count": 246,
   "id": "6b194c8a-0b00-41d6-8be6-eec627ee4df3",
   "metadata": {},
   "outputs": [],
   "source": [
    "#deleting the columns that are completely null\n",
    "\n",
    "dsd.drop(['Status', 'Unnamed'], axis = 1, inplace = True)"
   ]
  },
  {
   "cell_type": "code",
   "execution_count": 247,
   "id": "d8ea6f1d-3b56-44a5-99eb-8325f8fbb2d3",
   "metadata": {},
   "outputs": [
    {
     "data": {
      "text/plain": [
       "User_ID              0\n",
       "Cust_name            0\n",
       "Product_ID           0\n",
       "Gender               0\n",
       "Age                  0\n",
       "Marital_Status       0\n",
       "State                0\n",
       "Zone                 0\n",
       "Occupation           0\n",
       "Product_Category     0\n",
       "Orders               0\n",
       "Amount              12\n",
       "dtype: int64"
      ]
     },
     "execution_count": 247,
     "metadata": {},
     "output_type": "execute_result"
    }
   ],
   "source": [
    "dsd.isnull().sum()"
   ]
  },
  {
   "cell_type": "code",
   "execution_count": 248,
   "id": "39f40cab-269f-4507-9084-efc96196b477",
   "metadata": {},
   "outputs": [
    {
     "name": "stdout",
     "output_type": "stream",
     "text": [
      "     User_ID Cust_name Product_ID Gender  Age  Marital_Status           State  \\\n",
      "7    1002092  Shivangi  P00273442      F   61               0     Maharashtra   \n",
      "14   1003858      Cano  P00293742      M   46               1  Madhya Pradesh   \n",
      "16   1005447       Amy  P00275642      F   48               1  Andhra Pradesh   \n",
      "109  1005265    Sakshi  P00296242      F   48               1           Delhi   \n",
      "111  1005261   Apoorva  P00057942      F   41               1           Delhi   \n",
      "184  1005538    Kartik  P00269542      F   49               1       Karnataka   \n",
      "293  1000326  Jonathan  P00120542      M   53               0         Gujarat   \n",
      "344  1002507   Lakshmi  P00045842      F   35               1         Gujarat   \n",
      "345  1004498   Srishti  P00030842      F   55               0           Delhi   \n",
      "452  1004601    Gaurav  P00014442      F   40               1  Madhya Pradesh   \n",
      "464  1004528    Anurag  P00338442      F   33               1   Uttar Pradesh   \n",
      "493  1002994    Hemant   P0009942      F   38               0   Uttar Pradesh   \n",
      "\n",
      "         Zone   Occupation  Product_Category  Orders  Amount  \n",
      "7     Western    IT Sector              Auto       1     NaN  \n",
      "14    Central  Hospitality              Auto       3     NaN  \n",
      "16   Southern    IT Sector              Auto       3     NaN  \n",
      "109   Central      Banking  Footwear & Shoes       1     NaN  \n",
      "111   Central    IT Sector  Footwear & Shoes       2     NaN  \n",
      "184  Southern      Banking  Footwear & Shoes       1     NaN  \n",
      "293   Western    IT Sector  Footwear & Shoes       3     NaN  \n",
      "344   Western     Chemical         Furniture       1     NaN  \n",
      "345   Central      Textile  Footwear & Shoes       1     NaN  \n",
      "452   Central  Hospitality              Food       4     NaN  \n",
      "464   Central   Automobile              Food       2     NaN  \n",
      "493   Central    IT Sector              Food       4     NaN  \n"
     ]
    }
   ],
   "source": [
    "#checking on the data with null valued rows\n",
    "\n",
    "print(dsd[dsd.isnull().any(axis=1)])"
   ]
  },
  {
   "cell_type": "code",
   "execution_count": 249,
   "id": "234e7289-6a10-46ea-baeb-9462d009aa81",
   "metadata": {},
   "outputs": [],
   "source": [
    "#Since amount is important for Sales analysis, filling the null values with the mean amount value of respective product category.\n",
    "\n",
    "dsd['Amount'] = dsd.groupby('Product_Category')['Amount'].transform(lambda x: x.fillna(x.mean()))"
   ]
  },
  {
   "cell_type": "code",
   "execution_count": 250,
   "id": "7605b042-a17d-4bb6-9b8f-98b3293a3184",
   "metadata": {},
   "outputs": [
    {
     "name": "stdout",
     "output_type": "stream",
     "text": [
      "Empty DataFrame\n",
      "Columns: [User_ID, Cust_name, Product_ID, Gender, Age, Marital_Status, State, Zone, Occupation, Product_Category, Orders, Amount]\n",
      "Index: []\n",
      "   User_ID Cust_name Product_ID Gender  Age  Marital_Status        State  \\\n",
      "7  1002092  Shivangi  P00273442      F   61               0  Maharashtra   \n",
      "\n",
      "      Zone Occupation Product_Category  Orders        Amount  \n",
      "7  Western  IT Sector             Auto       1  20191.855567  \n"
     ]
    }
   ],
   "source": [
    "#Confirming that the values got filled and no remaining null rows\n",
    "\n",
    "print(dsd[dsd.isnull().any(axis=1)])\n",
    "\n",
    "print(dsd[(dsd['User_ID'] == 1002092) & (dsd['Product_ID'] == 'P00273442')])"
   ]
  },
  {
   "cell_type": "code",
   "execution_count": 251,
   "id": "911d2184-d599-4233-83aa-e3447ca83a55",
   "metadata": {},
   "outputs": [],
   "source": [
    "#Since amount has 6 digit floating value, for calculation lets make it as integer.\n",
    "\n",
    "dsd['Amount'] = dsd['Amount'].astype('int')"
   ]
  },
  {
   "cell_type": "code",
   "execution_count": 252,
   "id": "d2b3fb2d-c2b9-416a-a7f9-97d4758c453a",
   "metadata": {},
   "outputs": [
    {
     "data": {
      "text/plain": [
       "dtype('int32')"
      ]
     },
     "execution_count": 252,
     "metadata": {},
     "output_type": "execute_result"
    }
   ],
   "source": [
    "dsd['Amount'].dtypes"
   ]
  },
  {
   "cell_type": "code",
   "execution_count": 253,
   "id": "9c755e34-a0ac-4a6a-bd66-cb2e545f3ce6",
   "metadata": {},
   "outputs": [
    {
     "data": {
      "text/plain": [
       "Index(['User_ID', 'Cust_name', 'Product_ID', 'Gender', 'Age', 'Marital_Status',\n",
       "       'State', 'Zone', 'Occupation', 'Product_Category', 'Orders', 'Amount'],\n",
       "      dtype='object')"
      ]
     },
     "execution_count": 253,
     "metadata": {},
     "output_type": "execute_result"
    }
   ],
   "source": [
    "dsd.columns"
   ]
  },
  {
   "cell_type": "code",
   "execution_count": 254,
   "id": "7aa3c419-1637-4882-90b7-b8c623fa59b0",
   "metadata": {},
   "outputs": [
    {
     "data": {
      "text/plain": [
       "Index(['User_ID', 'Cust_name', 'Product_ID', 'Gender', 'Age', 'Married',\n",
       "       'State', 'Zone', 'Occupation', 'Product_Category', 'Orders', 'Amount'],\n",
       "      dtype='object')"
      ]
     },
     "execution_count": 254,
     "metadata": {},
     "output_type": "execute_result"
    }
   ],
   "source": [
    "#changing the column name example \n",
    "\n",
    "dsd.rename(columns = {'Marital_Status' : 'Married'}, inplace = True)\n",
    "dsd.columns"
   ]
  },
  {
   "cell_type": "code",
   "execution_count": 67,
   "id": "ecc25ba7-ef39-4544-be75-e10920b04f3a",
   "metadata": {},
   "outputs": [
    {
     "data": {
      "text/html": [
       "<div>\n",
       "<style scoped>\n",
       "    .dataframe tbody tr th:only-of-type {\n",
       "        vertical-align: middle;\n",
       "    }\n",
       "\n",
       "    .dataframe tbody tr th {\n",
       "        vertical-align: top;\n",
       "    }\n",
       "\n",
       "    .dataframe thead th {\n",
       "        text-align: right;\n",
       "    }\n",
       "</style>\n",
       "<table border=\"1\" class=\"dataframe\">\n",
       "  <thead>\n",
       "    <tr style=\"text-align: right;\">\n",
       "      <th></th>\n",
       "      <th>Age</th>\n",
       "      <th>Orders</th>\n",
       "      <th>Amount</th>\n",
       "    </tr>\n",
       "  </thead>\n",
       "  <tbody>\n",
       "    <tr>\n",
       "      <th>count</th>\n",
       "      <td>11251.000000</td>\n",
       "      <td>11251.000000</td>\n",
       "      <td>11251.000000</td>\n",
       "    </tr>\n",
       "    <tr>\n",
       "      <th>mean</th>\n",
       "      <td>35.421207</td>\n",
       "      <td>2.489290</td>\n",
       "      <td>9460.454626</td>\n",
       "    </tr>\n",
       "    <tr>\n",
       "      <th>std</th>\n",
       "      <td>12.754122</td>\n",
       "      <td>1.115047</td>\n",
       "      <td>5224.434220</td>\n",
       "    </tr>\n",
       "    <tr>\n",
       "      <th>min</th>\n",
       "      <td>12.000000</td>\n",
       "      <td>1.000000</td>\n",
       "      <td>188.000000</td>\n",
       "    </tr>\n",
       "    <tr>\n",
       "      <th>25%</th>\n",
       "      <td>27.000000</td>\n",
       "      <td>1.500000</td>\n",
       "      <td>5443.500000</td>\n",
       "    </tr>\n",
       "    <tr>\n",
       "      <th>50%</th>\n",
       "      <td>33.000000</td>\n",
       "      <td>2.000000</td>\n",
       "      <td>8110.000000</td>\n",
       "    </tr>\n",
       "    <tr>\n",
       "      <th>75%</th>\n",
       "      <td>43.000000</td>\n",
       "      <td>3.000000</td>\n",
       "      <td>12691.500000</td>\n",
       "    </tr>\n",
       "    <tr>\n",
       "      <th>max</th>\n",
       "      <td>92.000000</td>\n",
       "      <td>4.000000</td>\n",
       "      <td>23952.000000</td>\n",
       "    </tr>\n",
       "  </tbody>\n",
       "</table>\n",
       "</div>"
      ],
      "text/plain": [
       "                Age        Orders        Amount\n",
       "count  11251.000000  11251.000000  11251.000000\n",
       "mean      35.421207      2.489290   9460.454626\n",
       "std       12.754122      1.115047   5224.434220\n",
       "min       12.000000      1.000000    188.000000\n",
       "25%       27.000000      1.500000   5443.500000\n",
       "50%       33.000000      2.000000   8110.000000\n",
       "75%       43.000000      3.000000  12691.500000\n",
       "max       92.000000      4.000000  23952.000000"
      ]
     },
     "execution_count": 67,
     "metadata": {},
     "output_type": "execute_result"
    }
   ],
   "source": [
    "#Describe function gives the statistical analysis on columns that contain numerical values in dataset. \n",
    "#We can also select the columns on which we want this analysis.\n",
    "\n",
    "dsd[['Age','Orders','Amount']].describe()"
   ]
  },
  {
   "cell_type": "code",
   "execution_count": 255,
   "id": "4e000770-b41b-4489-95c5-4741d14a143a",
   "metadata": {},
   "outputs": [],
   "source": [
    "#DATA TRANSFORMATION\n",
    "#Age column is ranging widely. For ease of analysis, categorizing the Age column to Age_Group\n",
    "\n",
    "def age_categor(age):\n",
    "    if age < 18:\n",
    "        return '0-17'\n",
    "    elif age < 26:\n",
    "        return '18-25'\n",
    "    elif age < 36:\n",
    "        return '26-35'\n",
    "    elif age < 46:\n",
    "        return '36-45'\n",
    "    elif age < 55:\n",
    "        return '46-54'\n",
    "    else:\n",
    "        return '55+'\n",
    "\n",
    "dsd['Age_Group'] = dsd['Age'].apply(age_categories)"
   ]
  },
  {
   "cell_type": "code",
   "execution_count": 256,
   "id": "b6647e23-2a4b-4574-bc32-fa949b1fc7e6",
   "metadata": {},
   "outputs": [
    {
     "data": {
      "text/html": [
       "<div>\n",
       "<style scoped>\n",
       "    .dataframe tbody tr th:only-of-type {\n",
       "        vertical-align: middle;\n",
       "    }\n",
       "\n",
       "    .dataframe tbody tr th {\n",
       "        vertical-align: top;\n",
       "    }\n",
       "\n",
       "    .dataframe thead th {\n",
       "        text-align: right;\n",
       "    }\n",
       "</style>\n",
       "<table border=\"1\" class=\"dataframe\">\n",
       "  <thead>\n",
       "    <tr style=\"text-align: right;\">\n",
       "      <th></th>\n",
       "      <th>User_ID</th>\n",
       "      <th>Cust_name</th>\n",
       "      <th>Product_ID</th>\n",
       "      <th>Gender</th>\n",
       "      <th>Age</th>\n",
       "      <th>Married</th>\n",
       "      <th>State</th>\n",
       "      <th>Zone</th>\n",
       "      <th>Occupation</th>\n",
       "      <th>Product_Category</th>\n",
       "      <th>Orders</th>\n",
       "      <th>Amount</th>\n",
       "      <th>Age_Group</th>\n",
       "    </tr>\n",
       "  </thead>\n",
       "  <tbody>\n",
       "    <tr>\n",
       "      <th>0</th>\n",
       "      <td>1002903</td>\n",
       "      <td>Sanskriti</td>\n",
       "      <td>P00125942</td>\n",
       "      <td>F</td>\n",
       "      <td>28</td>\n",
       "      <td>0</td>\n",
       "      <td>Maharashtra</td>\n",
       "      <td>Western</td>\n",
       "      <td>Healthcare</td>\n",
       "      <td>Auto</td>\n",
       "      <td>1</td>\n",
       "      <td>23952</td>\n",
       "      <td>26-35</td>\n",
       "    </tr>\n",
       "    <tr>\n",
       "      <th>1</th>\n",
       "      <td>1000732</td>\n",
       "      <td>Kartik</td>\n",
       "      <td>P00110942</td>\n",
       "      <td>F</td>\n",
       "      <td>35</td>\n",
       "      <td>1</td>\n",
       "      <td>Andhra Pradesh</td>\n",
       "      <td>Southern</td>\n",
       "      <td>Govt</td>\n",
       "      <td>Auto</td>\n",
       "      <td>3</td>\n",
       "      <td>23934</td>\n",
       "      <td>26-35</td>\n",
       "    </tr>\n",
       "    <tr>\n",
       "      <th>2</th>\n",
       "      <td>1001990</td>\n",
       "      <td>Bindu</td>\n",
       "      <td>P00118542</td>\n",
       "      <td>F</td>\n",
       "      <td>35</td>\n",
       "      <td>1</td>\n",
       "      <td>Uttar Pradesh</td>\n",
       "      <td>Central</td>\n",
       "      <td>Automobile</td>\n",
       "      <td>Auto</td>\n",
       "      <td>3</td>\n",
       "      <td>23924</td>\n",
       "      <td>26-35</td>\n",
       "    </tr>\n",
       "    <tr>\n",
       "      <th>3</th>\n",
       "      <td>1001425</td>\n",
       "      <td>Sudevi</td>\n",
       "      <td>P00237842</td>\n",
       "      <td>M</td>\n",
       "      <td>16</td>\n",
       "      <td>0</td>\n",
       "      <td>Karnataka</td>\n",
       "      <td>Southern</td>\n",
       "      <td>Construction</td>\n",
       "      <td>Auto</td>\n",
       "      <td>2</td>\n",
       "      <td>23912</td>\n",
       "      <td>0-17</td>\n",
       "    </tr>\n",
       "    <tr>\n",
       "      <th>4</th>\n",
       "      <td>1000588</td>\n",
       "      <td>Joni</td>\n",
       "      <td>P00057942</td>\n",
       "      <td>M</td>\n",
       "      <td>28</td>\n",
       "      <td>1</td>\n",
       "      <td>Gujarat</td>\n",
       "      <td>Western</td>\n",
       "      <td>Food Processing</td>\n",
       "      <td>Auto</td>\n",
       "      <td>2</td>\n",
       "      <td>23877</td>\n",
       "      <td>26-35</td>\n",
       "    </tr>\n",
       "    <tr>\n",
       "      <th>...</th>\n",
       "      <td>...</td>\n",
       "      <td>...</td>\n",
       "      <td>...</td>\n",
       "      <td>...</td>\n",
       "      <td>...</td>\n",
       "      <td>...</td>\n",
       "      <td>...</td>\n",
       "      <td>...</td>\n",
       "      <td>...</td>\n",
       "      <td>...</td>\n",
       "      <td>...</td>\n",
       "      <td>...</td>\n",
       "      <td>...</td>\n",
       "    </tr>\n",
       "    <tr>\n",
       "      <th>11246</th>\n",
       "      <td>1000695</td>\n",
       "      <td>Manning</td>\n",
       "      <td>P00296942</td>\n",
       "      <td>M</td>\n",
       "      <td>19</td>\n",
       "      <td>1</td>\n",
       "      <td>Maharashtra</td>\n",
       "      <td>Western</td>\n",
       "      <td>Chemical</td>\n",
       "      <td>Office</td>\n",
       "      <td>4</td>\n",
       "      <td>370</td>\n",
       "      <td>18-25</td>\n",
       "    </tr>\n",
       "    <tr>\n",
       "      <th>11247</th>\n",
       "      <td>1004089</td>\n",
       "      <td>Reichenbach</td>\n",
       "      <td>P00171342</td>\n",
       "      <td>M</td>\n",
       "      <td>33</td>\n",
       "      <td>0</td>\n",
       "      <td>Haryana</td>\n",
       "      <td>Northern</td>\n",
       "      <td>Healthcare</td>\n",
       "      <td>Veterinary</td>\n",
       "      <td>3</td>\n",
       "      <td>367</td>\n",
       "      <td>26-35</td>\n",
       "    </tr>\n",
       "    <tr>\n",
       "      <th>11248</th>\n",
       "      <td>1001209</td>\n",
       "      <td>Oshin</td>\n",
       "      <td>P00201342</td>\n",
       "      <td>F</td>\n",
       "      <td>40</td>\n",
       "      <td>0</td>\n",
       "      <td>Madhya Pradesh</td>\n",
       "      <td>Central</td>\n",
       "      <td>Textile</td>\n",
       "      <td>Office</td>\n",
       "      <td>4</td>\n",
       "      <td>213</td>\n",
       "      <td>36-45</td>\n",
       "    </tr>\n",
       "    <tr>\n",
       "      <th>11249</th>\n",
       "      <td>1004023</td>\n",
       "      <td>Noonan</td>\n",
       "      <td>P00059442</td>\n",
       "      <td>M</td>\n",
       "      <td>37</td>\n",
       "      <td>0</td>\n",
       "      <td>Karnataka</td>\n",
       "      <td>Southern</td>\n",
       "      <td>Agriculture</td>\n",
       "      <td>Office</td>\n",
       "      <td>3</td>\n",
       "      <td>206</td>\n",
       "      <td>36-45</td>\n",
       "    </tr>\n",
       "    <tr>\n",
       "      <th>11250</th>\n",
       "      <td>1002744</td>\n",
       "      <td>Brumley</td>\n",
       "      <td>P00281742</td>\n",
       "      <td>F</td>\n",
       "      <td>19</td>\n",
       "      <td>0</td>\n",
       "      <td>Maharashtra</td>\n",
       "      <td>Western</td>\n",
       "      <td>Healthcare</td>\n",
       "      <td>Office</td>\n",
       "      <td>3</td>\n",
       "      <td>188</td>\n",
       "      <td>18-25</td>\n",
       "    </tr>\n",
       "  </tbody>\n",
       "</table>\n",
       "<p>11251 rows × 13 columns</p>\n",
       "</div>"
      ],
      "text/plain": [
       "       User_ID    Cust_name Product_ID Gender  Age  Married           State  \\\n",
       "0      1002903    Sanskriti  P00125942      F   28        0     Maharashtra   \n",
       "1      1000732       Kartik  P00110942      F   35        1  Andhra Pradesh   \n",
       "2      1001990        Bindu  P00118542      F   35        1   Uttar Pradesh   \n",
       "3      1001425       Sudevi  P00237842      M   16        0       Karnataka   \n",
       "4      1000588         Joni  P00057942      M   28        1         Gujarat   \n",
       "...        ...          ...        ...    ...  ...      ...             ...   \n",
       "11246  1000695      Manning  P00296942      M   19        1     Maharashtra   \n",
       "11247  1004089  Reichenbach  P00171342      M   33        0         Haryana   \n",
       "11248  1001209        Oshin  P00201342      F   40        0  Madhya Pradesh   \n",
       "11249  1004023       Noonan  P00059442      M   37        0       Karnataka   \n",
       "11250  1002744      Brumley  P00281742      F   19        0     Maharashtra   \n",
       "\n",
       "           Zone       Occupation Product_Category  Orders  Amount Age_Group  \n",
       "0       Western       Healthcare             Auto       1   23952     26-35  \n",
       "1      Southern             Govt             Auto       3   23934     26-35  \n",
       "2       Central       Automobile             Auto       3   23924     26-35  \n",
       "3      Southern     Construction             Auto       2   23912      0-17  \n",
       "4       Western  Food Processing             Auto       2   23877     26-35  \n",
       "...         ...              ...              ...     ...     ...       ...  \n",
       "11246   Western         Chemical           Office       4     370     18-25  \n",
       "11247  Northern       Healthcare       Veterinary       3     367     26-35  \n",
       "11248   Central          Textile           Office       4     213     36-45  \n",
       "11249  Southern      Agriculture           Office       3     206     36-45  \n",
       "11250   Western       Healthcare           Office       3     188     18-25  \n",
       "\n",
       "[11251 rows x 13 columns]"
      ]
     },
     "execution_count": 256,
     "metadata": {},
     "output_type": "execute_result"
    }
   ],
   "source": [
    "dsd"
   ]
  },
  {
   "cell_type": "code",
   "execution_count": 257,
   "id": "a1ab9b5a-6110-4bbd-8274-0036befe3c97",
   "metadata": {},
   "outputs": [
    {
     "name": "stdout",
     "output_type": "stream",
     "text": [
      "Duplicate Rows:         User_ID   Cust_name Product_ID Gender  Age  Married          State  \\\n",
      "18     1001883     Praneet  P00029842      M   54        1  Uttar Pradesh   \n",
      "19     1001883     Praneet  P00029842      M   54        1  Uttar Pradesh   \n",
      "4403   1004725     Jackson  P00150842      F   37        1    Maharashtra   \n",
      "4404   1004725     Jackson  P00150842      F   37        1    Maharashtra   \n",
      "5702   1003208      Bowman  P00171642      F   31        0          Bihar   \n",
      "5703   1003208      Bowman  P00171642      F   31        0          Bihar   \n",
      "5907   1001260     Dheeraj  P00344042      M   28        0    Maharashtra   \n",
      "5908   1001260     Dheeraj  P00344042      M   28        0    Maharashtra   \n",
      "6172   1001325       Reese  P00111742      F   27        1        Gujarat   \n",
      "6173   1001325       Reese  P00111742      F   27        1        Gujarat   \n",
      "8650   1000083        Gute  P00242842      M   35        0  Uttar Pradesh   \n",
      "8651   1000083        Gute  P00242842      M   35        0  Uttar Pradesh   \n",
      "8940   1001476     Anudeep  P00036842      M   25        0    Maharashtra   \n",
      "8941   1001476     Anudeep  P00036842      M   25        0    Maharashtra   \n",
      "10570  1004404  Rittenbach  P00150142      F   28        1        Haryana   \n",
      "10571  1004404  Rittenbach  P00150142      F   28        1        Haryana   \n",
      "\n",
      "           Zone    Occupation       Product_Category  Orders  Amount Age_Group  \n",
      "18      Central   Hospitality                   Auto       1   23568     46-54  \n",
      "19      Central   Hospitality                   Auto       1   23568     46-54  \n",
      "4403    Western   Hospitality  Electronics & Gadgets       4    9859     36-45  \n",
      "4404    Western   Hospitality  Electronics & Gadgets       4    9859     36-45  \n",
      "5702    Eastern   Agriculture  Electronics & Gadgets       4    8088     26-35  \n",
      "5703    Eastern   Agriculture  Electronics & Gadgets       4    8088     26-35  \n",
      "5907    Western     IT Sector  Electronics & Gadgets       4    8015     26-35  \n",
      "5908    Western     IT Sector  Electronics & Gadgets       4    8015     26-35  \n",
      "6172    Western  Construction  Electronics & Gadgets       3    7923     26-35  \n",
      "6173    Western  Construction  Electronics & Gadgets       3    7923     26-35  \n",
      "8650    Central   Hospitality     Clothing & Apparel       3    5345     26-35  \n",
      "8651    Central   Hospitality     Clothing & Apparel       3    5345     26-35  \n",
      "8940    Western     IT Sector     Clothing & Apparel       4    5202     18-25  \n",
      "8941    Western     IT Sector     Clothing & Apparel       4    5202     18-25  \n",
      "10570  Northern      Aviation  Electronics & Gadgets       3    2304     26-35  \n",
      "10571  Northern      Aviation  Electronics & Gadgets       3    2304     26-35  \n"
     ]
    }
   ],
   "source": [
    "#Checking for duplicate values if any. \n",
    "\n",
    "print('Duplicate Rows: ', dsd[dsd.duplicated(keep= False)])"
   ]
  },
  {
   "cell_type": "code",
   "execution_count": 258,
   "id": "0bc8542a-4d62-4241-805c-f441c2ecb5a0",
   "metadata": {},
   "outputs": [
    {
     "data": {
      "text/html": [
       "<div>\n",
       "<style scoped>\n",
       "    .dataframe tbody tr th:only-of-type {\n",
       "        vertical-align: middle;\n",
       "    }\n",
       "\n",
       "    .dataframe tbody tr th {\n",
       "        vertical-align: top;\n",
       "    }\n",
       "\n",
       "    .dataframe thead th {\n",
       "        text-align: right;\n",
       "    }\n",
       "</style>\n",
       "<table border=\"1\" class=\"dataframe\">\n",
       "  <thead>\n",
       "    <tr style=\"text-align: right;\">\n",
       "      <th></th>\n",
       "      <th>User_ID</th>\n",
       "      <th>Cust_name</th>\n",
       "      <th>Product_ID</th>\n",
       "      <th>Gender</th>\n",
       "      <th>Age</th>\n",
       "      <th>Married</th>\n",
       "      <th>State</th>\n",
       "      <th>Zone</th>\n",
       "      <th>Occupation</th>\n",
       "      <th>Product_Category</th>\n",
       "      <th>Orders</th>\n",
       "      <th>Amount</th>\n",
       "      <th>Age_Group</th>\n",
       "    </tr>\n",
       "  </thead>\n",
       "  <tbody>\n",
       "    <tr>\n",
       "      <th>0</th>\n",
       "      <td>1002903</td>\n",
       "      <td>Sanskriti</td>\n",
       "      <td>P00125942</td>\n",
       "      <td>F</td>\n",
       "      <td>28</td>\n",
       "      <td>0</td>\n",
       "      <td>Maharashtra</td>\n",
       "      <td>Western</td>\n",
       "      <td>Healthcare</td>\n",
       "      <td>Auto</td>\n",
       "      <td>1</td>\n",
       "      <td>23952</td>\n",
       "      <td>26-35</td>\n",
       "    </tr>\n",
       "    <tr>\n",
       "      <th>1</th>\n",
       "      <td>1000732</td>\n",
       "      <td>Kartik</td>\n",
       "      <td>P00110942</td>\n",
       "      <td>F</td>\n",
       "      <td>35</td>\n",
       "      <td>1</td>\n",
       "      <td>Andhra Pradesh</td>\n",
       "      <td>Southern</td>\n",
       "      <td>Govt</td>\n",
       "      <td>Auto</td>\n",
       "      <td>3</td>\n",
       "      <td>23934</td>\n",
       "      <td>26-35</td>\n",
       "    </tr>\n",
       "    <tr>\n",
       "      <th>2</th>\n",
       "      <td>1001990</td>\n",
       "      <td>Bindu</td>\n",
       "      <td>P00118542</td>\n",
       "      <td>F</td>\n",
       "      <td>35</td>\n",
       "      <td>1</td>\n",
       "      <td>Uttar Pradesh</td>\n",
       "      <td>Central</td>\n",
       "      <td>Automobile</td>\n",
       "      <td>Auto</td>\n",
       "      <td>3</td>\n",
       "      <td>23924</td>\n",
       "      <td>26-35</td>\n",
       "    </tr>\n",
       "    <tr>\n",
       "      <th>3</th>\n",
       "      <td>1001425</td>\n",
       "      <td>Sudevi</td>\n",
       "      <td>P00237842</td>\n",
       "      <td>M</td>\n",
       "      <td>16</td>\n",
       "      <td>0</td>\n",
       "      <td>Karnataka</td>\n",
       "      <td>Southern</td>\n",
       "      <td>Construction</td>\n",
       "      <td>Auto</td>\n",
       "      <td>2</td>\n",
       "      <td>23912</td>\n",
       "      <td>0-17</td>\n",
       "    </tr>\n",
       "    <tr>\n",
       "      <th>4</th>\n",
       "      <td>1000588</td>\n",
       "      <td>Joni</td>\n",
       "      <td>P00057942</td>\n",
       "      <td>M</td>\n",
       "      <td>28</td>\n",
       "      <td>1</td>\n",
       "      <td>Gujarat</td>\n",
       "      <td>Western</td>\n",
       "      <td>Food Processing</td>\n",
       "      <td>Auto</td>\n",
       "      <td>2</td>\n",
       "      <td>23877</td>\n",
       "      <td>26-35</td>\n",
       "    </tr>\n",
       "    <tr>\n",
       "      <th>...</th>\n",
       "      <td>...</td>\n",
       "      <td>...</td>\n",
       "      <td>...</td>\n",
       "      <td>...</td>\n",
       "      <td>...</td>\n",
       "      <td>...</td>\n",
       "      <td>...</td>\n",
       "      <td>...</td>\n",
       "      <td>...</td>\n",
       "      <td>...</td>\n",
       "      <td>...</td>\n",
       "      <td>...</td>\n",
       "      <td>...</td>\n",
       "    </tr>\n",
       "    <tr>\n",
       "      <th>11246</th>\n",
       "      <td>1000695</td>\n",
       "      <td>Manning</td>\n",
       "      <td>P00296942</td>\n",
       "      <td>M</td>\n",
       "      <td>19</td>\n",
       "      <td>1</td>\n",
       "      <td>Maharashtra</td>\n",
       "      <td>Western</td>\n",
       "      <td>Chemical</td>\n",
       "      <td>Office</td>\n",
       "      <td>4</td>\n",
       "      <td>370</td>\n",
       "      <td>18-25</td>\n",
       "    </tr>\n",
       "    <tr>\n",
       "      <th>11247</th>\n",
       "      <td>1004089</td>\n",
       "      <td>Reichenbach</td>\n",
       "      <td>P00171342</td>\n",
       "      <td>M</td>\n",
       "      <td>33</td>\n",
       "      <td>0</td>\n",
       "      <td>Haryana</td>\n",
       "      <td>Northern</td>\n",
       "      <td>Healthcare</td>\n",
       "      <td>Veterinary</td>\n",
       "      <td>3</td>\n",
       "      <td>367</td>\n",
       "      <td>26-35</td>\n",
       "    </tr>\n",
       "    <tr>\n",
       "      <th>11248</th>\n",
       "      <td>1001209</td>\n",
       "      <td>Oshin</td>\n",
       "      <td>P00201342</td>\n",
       "      <td>F</td>\n",
       "      <td>40</td>\n",
       "      <td>0</td>\n",
       "      <td>Madhya Pradesh</td>\n",
       "      <td>Central</td>\n",
       "      <td>Textile</td>\n",
       "      <td>Office</td>\n",
       "      <td>4</td>\n",
       "      <td>213</td>\n",
       "      <td>36-45</td>\n",
       "    </tr>\n",
       "    <tr>\n",
       "      <th>11249</th>\n",
       "      <td>1004023</td>\n",
       "      <td>Noonan</td>\n",
       "      <td>P00059442</td>\n",
       "      <td>M</td>\n",
       "      <td>37</td>\n",
       "      <td>0</td>\n",
       "      <td>Karnataka</td>\n",
       "      <td>Southern</td>\n",
       "      <td>Agriculture</td>\n",
       "      <td>Office</td>\n",
       "      <td>3</td>\n",
       "      <td>206</td>\n",
       "      <td>36-45</td>\n",
       "    </tr>\n",
       "    <tr>\n",
       "      <th>11250</th>\n",
       "      <td>1002744</td>\n",
       "      <td>Brumley</td>\n",
       "      <td>P00281742</td>\n",
       "      <td>F</td>\n",
       "      <td>19</td>\n",
       "      <td>0</td>\n",
       "      <td>Maharashtra</td>\n",
       "      <td>Western</td>\n",
       "      <td>Healthcare</td>\n",
       "      <td>Office</td>\n",
       "      <td>3</td>\n",
       "      <td>188</td>\n",
       "      <td>18-25</td>\n",
       "    </tr>\n",
       "  </tbody>\n",
       "</table>\n",
       "<p>11243 rows × 13 columns</p>\n",
       "</div>"
      ],
      "text/plain": [
       "       User_ID    Cust_name Product_ID Gender  Age  Married           State  \\\n",
       "0      1002903    Sanskriti  P00125942      F   28        0     Maharashtra   \n",
       "1      1000732       Kartik  P00110942      F   35        1  Andhra Pradesh   \n",
       "2      1001990        Bindu  P00118542      F   35        1   Uttar Pradesh   \n",
       "3      1001425       Sudevi  P00237842      M   16        0       Karnataka   \n",
       "4      1000588         Joni  P00057942      M   28        1         Gujarat   \n",
       "...        ...          ...        ...    ...  ...      ...             ...   \n",
       "11246  1000695      Manning  P00296942      M   19        1     Maharashtra   \n",
       "11247  1004089  Reichenbach  P00171342      M   33        0         Haryana   \n",
       "11248  1001209        Oshin  P00201342      F   40        0  Madhya Pradesh   \n",
       "11249  1004023       Noonan  P00059442      M   37        0       Karnataka   \n",
       "11250  1002744      Brumley  P00281742      F   19        0     Maharashtra   \n",
       "\n",
       "           Zone       Occupation Product_Category  Orders  Amount Age_Group  \n",
       "0       Western       Healthcare             Auto       1   23952     26-35  \n",
       "1      Southern             Govt             Auto       3   23934     26-35  \n",
       "2       Central       Automobile             Auto       3   23924     26-35  \n",
       "3      Southern     Construction             Auto       2   23912      0-17  \n",
       "4       Western  Food Processing             Auto       2   23877     26-35  \n",
       "...         ...              ...              ...     ...     ...       ...  \n",
       "11246   Western         Chemical           Office       4     370     18-25  \n",
       "11247  Northern       Healthcare       Veterinary       3     367     26-35  \n",
       "11248   Central          Textile           Office       4     213     36-45  \n",
       "11249  Southern      Agriculture           Office       3     206     36-45  \n",
       "11250   Western       Healthcare           Office       3     188     18-25  \n",
       "\n",
       "[11243 rows x 13 columns]"
      ]
     },
     "execution_count": 258,
     "metadata": {},
     "output_type": "execute_result"
    }
   ],
   "source": [
    "#Delete them incase duplicates found.\n",
    "\n",
    "dsd.drop_duplicates(inplace = True)\n",
    "dsd"
   ]
  },
  {
   "cell_type": "code",
   "execution_count": 259,
   "id": "88981ee9-af50-4d0f-88a3-1dd2d976aa28",
   "metadata": {},
   "outputs": [
    {
     "data": {
      "text/html": [
       "<div>\n",
       "<style scoped>\n",
       "    .dataframe tbody tr th:only-of-type {\n",
       "        vertical-align: middle;\n",
       "    }\n",
       "\n",
       "    .dataframe tbody tr th {\n",
       "        vertical-align: top;\n",
       "    }\n",
       "\n",
       "    .dataframe thead th {\n",
       "        text-align: right;\n",
       "    }\n",
       "</style>\n",
       "<table border=\"1\" class=\"dataframe\">\n",
       "  <thead>\n",
       "    <tr style=\"text-align: right;\">\n",
       "      <th></th>\n",
       "      <th>User_ID</th>\n",
       "      <th>Cust_name</th>\n",
       "      <th>Product_ID</th>\n",
       "      <th>Gender</th>\n",
       "      <th>Age</th>\n",
       "      <th>Married</th>\n",
       "      <th>State</th>\n",
       "      <th>Zone</th>\n",
       "      <th>Occupation</th>\n",
       "      <th>Product_Category</th>\n",
       "      <th>Orders</th>\n",
       "      <th>Amount</th>\n",
       "      <th>Age_Group</th>\n",
       "    </tr>\n",
       "  </thead>\n",
       "  <tbody>\n",
       "    <tr>\n",
       "      <th>0</th>\n",
       "      <td>1002903</td>\n",
       "      <td>Sanskriti</td>\n",
       "      <td>P00125942</td>\n",
       "      <td>F</td>\n",
       "      <td>28</td>\n",
       "      <td>0</td>\n",
       "      <td>Maharashtra</td>\n",
       "      <td>Western</td>\n",
       "      <td>Healthcare</td>\n",
       "      <td>Auto</td>\n",
       "      <td>1</td>\n",
       "      <td>23952</td>\n",
       "      <td>26-35</td>\n",
       "    </tr>\n",
       "    <tr>\n",
       "      <th>1</th>\n",
       "      <td>1000732</td>\n",
       "      <td>Kartik</td>\n",
       "      <td>P00110942</td>\n",
       "      <td>F</td>\n",
       "      <td>35</td>\n",
       "      <td>1</td>\n",
       "      <td>Andhra Pradesh</td>\n",
       "      <td>Southern</td>\n",
       "      <td>Govt</td>\n",
       "      <td>Auto</td>\n",
       "      <td>3</td>\n",
       "      <td>23934</td>\n",
       "      <td>26-35</td>\n",
       "    </tr>\n",
       "    <tr>\n",
       "      <th>2</th>\n",
       "      <td>1001990</td>\n",
       "      <td>Bindu</td>\n",
       "      <td>P00118542</td>\n",
       "      <td>F</td>\n",
       "      <td>35</td>\n",
       "      <td>1</td>\n",
       "      <td>Uttar Pradesh</td>\n",
       "      <td>Central</td>\n",
       "      <td>Automobile</td>\n",
       "      <td>Auto</td>\n",
       "      <td>3</td>\n",
       "      <td>23924</td>\n",
       "      <td>26-35</td>\n",
       "    </tr>\n",
       "    <tr>\n",
       "      <th>3</th>\n",
       "      <td>1001425</td>\n",
       "      <td>Sudevi</td>\n",
       "      <td>P00237842</td>\n",
       "      <td>M</td>\n",
       "      <td>16</td>\n",
       "      <td>0</td>\n",
       "      <td>Karnataka</td>\n",
       "      <td>Southern</td>\n",
       "      <td>Construction</td>\n",
       "      <td>Auto</td>\n",
       "      <td>2</td>\n",
       "      <td>23912</td>\n",
       "      <td>0-17</td>\n",
       "    </tr>\n",
       "    <tr>\n",
       "      <th>4</th>\n",
       "      <td>1000588</td>\n",
       "      <td>Joni</td>\n",
       "      <td>P00057942</td>\n",
       "      <td>M</td>\n",
       "      <td>28</td>\n",
       "      <td>1</td>\n",
       "      <td>Gujarat</td>\n",
       "      <td>Western</td>\n",
       "      <td>Food Processing</td>\n",
       "      <td>Auto</td>\n",
       "      <td>2</td>\n",
       "      <td>23877</td>\n",
       "      <td>26-35</td>\n",
       "    </tr>\n",
       "    <tr>\n",
       "      <th>...</th>\n",
       "      <td>...</td>\n",
       "      <td>...</td>\n",
       "      <td>...</td>\n",
       "      <td>...</td>\n",
       "      <td>...</td>\n",
       "      <td>...</td>\n",
       "      <td>...</td>\n",
       "      <td>...</td>\n",
       "      <td>...</td>\n",
       "      <td>...</td>\n",
       "      <td>...</td>\n",
       "      <td>...</td>\n",
       "      <td>...</td>\n",
       "    </tr>\n",
       "    <tr>\n",
       "      <th>11246</th>\n",
       "      <td>1000695</td>\n",
       "      <td>Manning</td>\n",
       "      <td>P00296942</td>\n",
       "      <td>M</td>\n",
       "      <td>19</td>\n",
       "      <td>1</td>\n",
       "      <td>Maharashtra</td>\n",
       "      <td>Western</td>\n",
       "      <td>Chemical</td>\n",
       "      <td>Office</td>\n",
       "      <td>4</td>\n",
       "      <td>370</td>\n",
       "      <td>18-25</td>\n",
       "    </tr>\n",
       "    <tr>\n",
       "      <th>11247</th>\n",
       "      <td>1004089</td>\n",
       "      <td>Reichenbach</td>\n",
       "      <td>P00171342</td>\n",
       "      <td>M</td>\n",
       "      <td>33</td>\n",
       "      <td>0</td>\n",
       "      <td>Haryana</td>\n",
       "      <td>Northern</td>\n",
       "      <td>Healthcare</td>\n",
       "      <td>Veterinary</td>\n",
       "      <td>3</td>\n",
       "      <td>367</td>\n",
       "      <td>26-35</td>\n",
       "    </tr>\n",
       "    <tr>\n",
       "      <th>11248</th>\n",
       "      <td>1001209</td>\n",
       "      <td>Oshin</td>\n",
       "      <td>P00201342</td>\n",
       "      <td>F</td>\n",
       "      <td>40</td>\n",
       "      <td>0</td>\n",
       "      <td>Madhya Pradesh</td>\n",
       "      <td>Central</td>\n",
       "      <td>Textile</td>\n",
       "      <td>Office</td>\n",
       "      <td>4</td>\n",
       "      <td>213</td>\n",
       "      <td>36-45</td>\n",
       "    </tr>\n",
       "    <tr>\n",
       "      <th>11249</th>\n",
       "      <td>1004023</td>\n",
       "      <td>Noonan</td>\n",
       "      <td>P00059442</td>\n",
       "      <td>M</td>\n",
       "      <td>37</td>\n",
       "      <td>0</td>\n",
       "      <td>Karnataka</td>\n",
       "      <td>Southern</td>\n",
       "      <td>Agriculture</td>\n",
       "      <td>Office</td>\n",
       "      <td>3</td>\n",
       "      <td>206</td>\n",
       "      <td>36-45</td>\n",
       "    </tr>\n",
       "    <tr>\n",
       "      <th>11250</th>\n",
       "      <td>1002744</td>\n",
       "      <td>Brumley</td>\n",
       "      <td>P00281742</td>\n",
       "      <td>F</td>\n",
       "      <td>19</td>\n",
       "      <td>0</td>\n",
       "      <td>Maharashtra</td>\n",
       "      <td>Western</td>\n",
       "      <td>Healthcare</td>\n",
       "      <td>Office</td>\n",
       "      <td>3</td>\n",
       "      <td>188</td>\n",
       "      <td>18-25</td>\n",
       "    </tr>\n",
       "  </tbody>\n",
       "</table>\n",
       "<p>11243 rows × 13 columns</p>\n",
       "</div>"
      ],
      "text/plain": [
       "       User_ID    Cust_name Product_ID Gender  Age  Married           State  \\\n",
       "0      1002903    Sanskriti  P00125942      F   28        0     Maharashtra   \n",
       "1      1000732       Kartik  P00110942      F   35        1  Andhra Pradesh   \n",
       "2      1001990        Bindu  P00118542      F   35        1   Uttar Pradesh   \n",
       "3      1001425       Sudevi  P00237842      M   16        0       Karnataka   \n",
       "4      1000588         Joni  P00057942      M   28        1         Gujarat   \n",
       "...        ...          ...        ...    ...  ...      ...             ...   \n",
       "11246  1000695      Manning  P00296942      M   19        1     Maharashtra   \n",
       "11247  1004089  Reichenbach  P00171342      M   33        0         Haryana   \n",
       "11248  1001209        Oshin  P00201342      F   40        0  Madhya Pradesh   \n",
       "11249  1004023       Noonan  P00059442      M   37        0       Karnataka   \n",
       "11250  1002744      Brumley  P00281742      F   19        0     Maharashtra   \n",
       "\n",
       "           Zone       Occupation Product_Category  Orders  Amount Age_Group  \n",
       "0       Western       Healthcare             Auto       1   23952     26-35  \n",
       "1      Southern             Govt             Auto       3   23934     26-35  \n",
       "2       Central       Automobile             Auto       3   23924     26-35  \n",
       "3      Southern     Construction             Auto       2   23912      0-17  \n",
       "4       Western  Food Processing             Auto       2   23877     26-35  \n",
       "...         ...              ...              ...     ...     ...       ...  \n",
       "11246   Western         Chemical           Office       4     370     18-25  \n",
       "11247  Northern       Healthcare       Veterinary       3     367     26-35  \n",
       "11248   Central          Textile           Office       4     213     36-45  \n",
       "11249  Southern      Agriculture           Office       3     206     36-45  \n",
       "11250   Western       Healthcare           Office       3     188     18-25  \n",
       "\n",
       "[11243 rows x 13 columns]"
      ]
     },
     "execution_count": 259,
     "metadata": {},
     "output_type": "execute_result"
    }
   ],
   "source": []
  },
  {
   "cell_type": "markdown",
   "id": "f012ab03-2eb6-4cf7-9174-e57d9e7c4024",
   "metadata": {},
   "source": [
    "<b> EDA - Exploratory Data Analysis</b>"
   ]
  },
  {
   "cell_type": "code",
   "execution_count": 218,
   "id": "9caf1dd8-85ab-4ae3-803b-56ca1c254fad",
   "metadata": {},
   "outputs": [
    {
     "data": {
      "image/png": "[encoded data removed]",
      "text/plain": [
       "<Figure size 1600x500 with 1 Axes>"
      ]
     },
     "metadata": {},
     "output_type": "display_data"
    }
   ],
   "source": [
    "#Taking Gender as the first column for checking the impact\n",
    "\n",
    "gender = sbn.countplot(data = dsd, x = 'Gender') "
   ]
  },
  {
   "cell_type": "code",
   "execution_count": 133,
   "id": "3e5529e6-21bf-4130-a424-f99c180f1f42",
   "metadata": {},
   "outputs": [
    {
     "data": {
      "image/png": "[encoded data removed]",
      "text/plain": [
       "<Figure size 640x480 with 1 Axes>"
      ]
     },
     "metadata": {},
     "output_type": "display_data"
    }
   ],
   "source": [
    "#Customizing the graph by putting the counts on top\n",
    "\n",
    "gender = sbn.countplot(data = dsd, x = 'Gender', hue = 'Gender') #palette = 'dark:y' -> code to change the colour\n",
    "for i in gender.containers:\n",
    "    gender.bar_label(i)"
   ]
  },
  {
   "cell_type": "code",
   "execution_count": 162,
   "id": "9d0764b6-9c0f-4233-87df-67beed2aca4f",
   "metadata": {},
   "outputs": [
    {
     "data": {
      "image/png": "[encoded data removed]",
      "text/plain": [
       "<Figure size 640x480 with 1 Axes>"
      ]
     },
     "metadata": {},
     "output_type": "display_data"
    }
   ],
   "source": [
    "#Comparison of gender and total amount of sales\n",
    "\n",
    "sales_gender = dsd.groupby('Gender', as_index = False)['Amount'].sum().sort_values(by='Amount', ascending = False)\n",
    "\n",
    "sf_plot = sbn.barplot(sales_gender, x = 'Gender', y = 'Amount', hue = 'Amount', legend = False)"
   ]
  },
  {
   "cell_type": "markdown",
   "id": "e6031843-b756-4cf9-acb3-ac043fb1e763",
   "metadata": {},
   "source": [
    "<i>From the analysis of Gender column, we can draw conclusion that Females are top buyers and have more purchasing power than Males.</i>"
   ]
  },
  {
   "cell_type": "code",
   "execution_count": 183,
   "id": "d871278f-431d-4e92-9fc2-43c6e393feca",
   "metadata": {},
   "outputs": [
    {
     "data": {
      "image/png": "[encoded data removed]",
      "text/plain": [
       "<Figure size 640x480 with 1 Axes>"
      ]
     },
     "metadata": {},
     "output_type": "display_data"
    }
   ],
   "source": [
    "#Second column for the analysis can be Age or Age_group(since we have created categories for easy analysis).\n",
    "#Comparing the Age and Amount for checking the purchasing power.\n",
    "\n",
    "age_amount = dsd.groupby(['Age_Group'], as_index = False)['Amount'].sum().sort_values(by = 'Amount', ascending = False) \n",
    "age_amount_plot = sbn.barplot(age_amount, x = 'Age_Group', y = 'Amount', hue = 'Amount', palette = 'pastel', legend = False)"
   ]
  },
  {
   "cell_type": "code",
   "execution_count": 184,
   "id": "b70eeeac-51ca-4351-83ab-eb8013321426",
   "metadata": {},
   "outputs": [
    {
     "data": {
      "image/png": "[encoded data removed]",
      "text/plain": [
       "<Figure size 640x480 with 1 Axes>"
      ]
     },
     "metadata": {},
     "output_type": "display_data"
    }
   ],
   "source": [
    "#Comparing the Age_group and Gender for the conclusion\n",
    "\n",
    "gen_age = sbn.countplot(dsd, x = 'Age_Group', hue = 'Gender', palette = 'dark')\n",
    "for i in gen_age.containers:\n",
    "    gen_age.bar_label(i)"
   ]
  },
  {
   "cell_type": "markdown",
   "id": "a8303914-fc5b-4093-ad8a-e9b0e13b3f7f",
   "metadata": {},
   "source": [
    "<i>From the above analyis on Age_group column, we can draw a conclusion that Females aged between 26-35 contributing most to the revenue.</i>"
   ]
  },
  {
   "cell_type": "code",
   "execution_count": 217,
   "id": "6969c5dc-e1da-4b76-a860-4fd33789a7ec",
   "metadata": {},
   "outputs": [
    {
     "data": {
      "image/png": "[encoded data removed]",
      "text/plain": [
       "<Figure size 1600x500 with 1 Axes>"
      ]
     },
     "metadata": {},
     "output_type": "display_data"
    }
   ],
   "source": [
    "#Next column for analysis can be State. (As we can check which region is contributing the most and least)\n",
    "\n",
    "#Comparing the State vs order count. Since there are multiple states, we can select top 5 or 10 states using head function.\n",
    "\n",
    "state_order = dsd.groupby('State', as_index=False)['Orders'].sum().sort_values(by='Orders', ascending = False).head(5)\n",
    "#sbn.set(rc = {'figure.figsize' : (16,5)}) -- to change the size of figure\n",
    "state_order_plot = sbn.barplot(state_order, x = 'State', y = 'Orders', hue = 'State', palette = 'flare')"
   ]
  },
  {
   "cell_type": "code",
   "execution_count": 215,
   "id": "fc2903cb-54ff-4437-bf70-655325d12e28",
   "metadata": {},
   "outputs": [
    {
     "data": {
      "image/png": "[encoded data removed]",
      "text/plain": [
       "<Figure size 1600x500 with 1 Axes>"
      ]
     },
     "metadata": {},
     "output_type": "display_data"
    }
   ],
   "source": [
    "#As most number of orders from the above states we can make comparision of state with Amount.\n",
    "\n",
    "state_amount = dsd.groupby('State', as_index= False)['Amount'].sum().sort_values(by='Amount', ascending = False).head(5)\n",
    "state_amount_plot = sbn.barplot(state_amount, x='State', y='Amount', hue='State', palette = 'rocket')"
   ]
  },
  {
   "cell_type": "markdown",
   "id": "254fda70-cd0a-4d1a-ac5e-f63e9cf70620",
   "metadata": {},
   "source": [
    "<i>From the above analysis of State and Orders columns, we can draw a conclusion that the top 3 buyer states are Uttar Pradesh, Maharashtra and Karnataka.</i>"
   ]
  },
  {
   "cell_type": "code",
   "execution_count": 268,
   "id": "a51b6dc8-406b-4ecb-864b-19b8b53cba57",
   "metadata": {},
   "outputs": [
    {
     "data": {
      "image/png": "[encoded data removed]",
      "text/plain": [
       "<Figure size 800x500 with 1 Axes>"
      ]
     },
     "metadata": {},
     "output_type": "display_data"
    }
   ],
   "source": [
    "#Checking if Marital_Status column is making any impact on the revenue.\n",
    "\n",
    "marr_rev = dsd.groupby('Married', as_index=False)['Amount'].sum().sort_values(by='Amount', ascending= False)\n",
    "sbn.set(rc={'figure.figsize': (8,5)})\n",
    "marr_rev_plot = sbn.barplot(marr_rev, x= 'Married', y='Amount', hue= 'Married', palette= 'mako', legend = False)"
   ]
  },
  {
   "cell_type": "code",
   "execution_count": 275,
   "id": "31a21ece-99d9-427d-ac2a-ebb65abea1ac",
   "metadata": {},
   "outputs": [
    {
     "data": {
      "image/png": "[encoded data removed]",
      "text/plain": [
       "<Figure size 800x500 with 1 Axes>"
      ]
     },
     "metadata": {},
     "output_type": "display_data"
    }
   ],
   "source": [
    "#Comparing marital status with gender\n",
    "\n",
    "marr_gen = dsd.groupby(['Married','Gender'], as_index=False)['Amount'].sum().sort_values(by='Amount', ascending= False)\n",
    "sbn.set(rc={'figure.figsize': (8,5)})\n",
    "marr_gen_plot = sbn.barplot(marr_gen, x= 'Married', y='Amount', hue= 'Gender', palette= 'mako', legend = 'full')"
   ]
  },
  {
   "cell_type": "markdown",
   "id": "96cebb7c-a5a5-481e-bf4d-59bd7e71b833",
   "metadata": {},
   "source": [
    "<i>From the analysis on Marital Status column, we can draw a conclusion that unmarried women are the top buyers.</i>"
   ]
  },
  {
   "cell_type": "code",
   "execution_count": 276,
   "id": "33a70da2-8895-42cc-a503-f93eab7bae8c",
   "metadata": {},
   "outputs": [
    {
     "data": {
      "text/plain": [
       "Index(['User_ID', 'Cust_name', 'Product_ID', 'Gender', 'Age', 'Married',\n",
       "       'State', 'Zone', 'Occupation', 'Product_Category', 'Orders', 'Amount',\n",
       "       'Age_Group'],\n",
       "      dtype='object')"
      ]
     },
     "execution_count": 276,
     "metadata": {},
     "output_type": "execute_result"
    }
   ],
   "source": [
    "dsd.columns"
   ]
  },
  {
   "cell_type": "code",
   "execution_count": 285,
   "id": "807e3194-8e38-431a-991f-ef79a3d39a59",
   "metadata": {},
   "outputs": [
    {
     "data": {
      "image/png": "[encoded data removed]",
      "text/plain": [
       "<Figure size 2000x500 with 1 Axes>"
      ]
     },
     "metadata": {},
     "output_type": "display_data"
    }
   ],
   "source": [
    "#Now, we can check on the Occupation column effect on the Sales\n",
    "#getting the count of all sectors of occupation\n",
    "\n",
    "sbn.set(rc={'figure.figsize': (20,5)})\n",
    "occ = sbn.countplot(dsd, x = 'Occupation', hue = 'Occupation')\n",
    "for i in occ.containers:\n",
    "    occ.bar_label(i)"
   ]
  },
  {
   "cell_type": "code",
   "execution_count": 291,
   "id": "6cfda631-3b5b-4363-a64b-cd8c2e758d42",
   "metadata": {},
   "outputs": [
    {
     "data": {
      "image/png": "[encoded data removed]",
      "text/plain": [
       "<Figure size 2000x500 with 1 Axes>"
      ]
     },
     "metadata": {},
     "output_type": "display_data"
    }
   ],
   "source": [
    "#Comparing Occupation and Amount columns.\n",
    "\n",
    "occ_amount = dsd.groupby('Occupation', as_index= False)['Amount'].sum().sort_values(by='Amount', ascending = False)\n",
    "occ_amount_plot = sbn.barplot(occ_amount, x='Occupation', y='Amount', hue='Amount', palette='magma')"
   ]
  },
  {
   "cell_type": "markdown",
   "id": "ed9b0b14-bc83-4334-8157-78ef9c7bac36",
   "metadata": {},
   "source": [
    "<i>From the above analysis of Occupation column, we can draw a conclusion that IT sector is contributing the most for revenue.</i>"
   ]
  },
  {
   "cell_type": "code",
   "execution_count": 301,
   "id": "f3fd6c8c-44a0-4915-afd6-5dffec993072",
   "metadata": {},
   "outputs": [
    {
     "data": {
      "image/png": "[encoded data removed]",
      "text/plain": [
       "<Figure size 800x500 with 1 Axes>"
      ]
     },
     "metadata": {},
     "output_type": "display_data"
    }
   ],
   "source": [
    "#Last column for the analysis is Product Category.\n",
    "#Comparing the Product category with Amount and top 3 contributers\n",
    "\n",
    "prod_amount = dsd.groupby('Product_Category', as_index=False)['Amount'].sum().sort_values(by='Amount', ascending = False).head(3)\n",
    "sbn.set(rc = {'figure.figsize': (8,5)})\n",
    "prod_amount_plot = sbn.barplot(prod_amount, x='Product_Category', y='Amount', hue='Product_Category', palette='cubehelix')"
   ]
  },
  {
   "cell_type": "markdown",
   "id": "ebadbf29-55f4-4154-af64-a20f9913a3eb",
   "metadata": {},
   "source": [
    "<i>From the above analysis of Product Category column, we can draw a conclusion that top 3 categories from which people are buying are Food, Clothing & Apparel and Footwear & Shoes</i>"
   ]
  },
  {
   "cell_type": "markdown",
   "id": "770c14c5-b018-452c-8255-b9d6581ff457",
   "metadata": {},
   "source": [
    "### <b>Final Conclusion of the Analysis</b>"
   ]
  },
  {
   "cell_type": "markdown",
   "id": "31a08ba0-1430-4406-9efc-473fabd62689",
   "metadata": {},
   "source": [
    "<i>Female customers aged between 26-35 working in IT Sector are the top buyers of the company, from the most bought products categories Food, Clothing & Apparel and Footwear & Shoes</i>"
   ]
  }
 ],
 "metadata": {
  "kernelspec": {
   "display_name": "Python 3 (ipykernel)",
   "language": "python",
   "name": "python3"
  },
  "language_info": {
   "codemirror_mode": {
    "name": "ipython",
    "version": 3
   },
   "file_extension": ".py",
   "mimetype": "text/x-python",
   "name": "python",
   "nbconvert_exporter": "python",
   "pygments_lexer": "ipython3",
   "version": "3.11.4"
  }
 },
 "nbformat": 4,
 "nbformat_minor": 5
}
